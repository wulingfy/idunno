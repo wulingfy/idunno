{
 "cells": [
  {
   "cell_type": "code",
   "execution_count": null,
   "metadata": {
    "vscode": {
     "languageId": "plaintext"
    }
   },
   "outputs": [],
   "source": [
    "import torch\n",
    "from datasets import load_dataset\n",
    "from transformers import GPT2Tokenizer, GPT2LMHeadModel, Trainer, TrainingArguments\n",
    "train_dataset = tokenized_datasets[\"train\"]\n",
    "\n",
    "train_dataset = train_dataset.map(lambda x: {'input_ids': torch.tensor(x['input_ids']),\n",
    "                                              'attention_mask': torch.tensor(x['attention_mask']),\n",
    "                                              'labels': torch.tensor(x['input_ids'])})\n",
    "training_args = TrainingArguments(\n",
    "    output_dir='./results',          \n",
    "    num_train_epochs=3,             \n",
    "    per_device_train_batch_size=2,   \n",
    "    save_steps=10_000,              \n",
    "    save_total_limit=2,              \n",
    ")\n",
    "\n",
    "\n",
    "trainer = Trainer(\n",
    "    model=model,                     \n",
    "    args=training_args,              \n",
    "    train_dataset=train_dataset,    \n",
    ")\n",
    "trainer.train()\n",
    "\n",
    "trained_model = GPT2LMHeadModel.from_pretrained('./results')\n",
    "trained_tokenizer = GPT2Tokenizer.from_pretrained(\"gpt2\")\n",
    "\n",
    "\n",
    "trained_tokenizer.pad_token = trained_tokenizer.eos_token\n"
   ]
  }
 ],
 "metadata": {
  "language_info": {
   "name": "python"
  }
 },
 "nbformat": 4,
 "nbformat_minor": 2
}
