{
 "cells": [
  {
   "cell_type": "code",
   "execution_count": null,
   "metadata": {
    "vscode": {
     "languageId": "plaintext"
    }
   },
   "outputs": [],
   "source": [
    "import torch\n",
    "from datasets import load_dataset\n",
    "from transformers import GPT2Tokenizer, GPT2LMHeadModel, Trainer, TrainingArguments\n",
    "tokenizer.pad_token = tokenizer.eos_token  \n",
    "\n",
    "\n",
    "dataset = load_dataset('json', data_files={'train': 'dataset.jsonl'})\n",
    "\n",
    "\n",
    "def tokenize_function(examples):\n",
    "    text_data = []\n",
    "    for message_list in examples['messages']:\n",
    "        for message in message_list:\n",
    "            text_data.append(message['content'])  \n",
    "    text = ' '.join(text_data)\n",
    "    return tokenizer(text, padding='max_length', truncation=True, max_length=512)\n",
    "tokenized_datasets = dataset.map(tokenize_function, batched=True, remove_columns=[\"messages\"])"
   ]
  }
 ],
 "metadata": {
  "language_info": {
   "name": "python"
  }
 },
 "nbformat": 4,
 "nbformat_minor": 2
}
